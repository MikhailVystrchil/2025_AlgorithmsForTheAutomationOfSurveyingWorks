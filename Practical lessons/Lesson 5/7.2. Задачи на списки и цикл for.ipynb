{
 "cells": [
  {
   "cell_type": "markdown",
   "metadata": {},
   "source": [
    "# Задачи на списки и цикл ```for```\n",
    "\n",
    "## Решите без `numpy`!!!"
   ]
  },
  {
   "cell_type": "markdown",
   "metadata": {},
   "source": [
    "***\n",
    "***"
   ]
  },
  {
   "cell_type": "markdown",
   "metadata": {},
   "source": [
    "## Задача 7.4\n",
    "\n",
    "Задайте две матрицы $ A $ и $ B $:\n",
    "\n",
    "$$ A_{m\\times x} =\n",
    "  \\left[ {\\begin{array}{ccc}\n",
    "    a_{11} & a_{12} & \\cdots & a_{1x}\\\\\n",
    "    a_{21} & a_{22} & \\cdots & a_{2x}\\\\\n",
    "    \\vdots & \\vdots & \\ddots & \\vdots\\\\\n",
    "    a_{m1} & a_{m2} & \\cdots & a_{mx}\\\\\n",
    "  \\end{array} } \\right] $$\n",
    "  \n",
    "  \n",
    "$$B_{x\\times n} =\n",
    "  \\left[ {\\begin{array}{cccc}\n",
    "    b_{11} & b_{12} & \\cdots & b_{1n}\\\\\n",
    "    b_{21} & b_{22} & \\cdots & b_{2n}\\\\\n",
    "    \\vdots & \\vdots & \\ddots & \\vdots\\\\\n",
    "    b_{x1} & b_{x2} & \\cdots & b_{xn}\\\\\n",
    "  \\end{array} } \\right] $$\n",
    "  \n",
    "Рассчитацте и выведите на экран матрицу $ C = A \\times B $:\n",
    "\n",
    "$$ C = A \\times B = \\left[ {\\begin{array}{cccc}\n",
    "    a_{11} & a_{12} & a_{13}\\\\\n",
    "    a_{21} & a_{22} & a_{23}\\\\\n",
    "  \\end{array} } \\right] \\times \n",
    "  \\left[ {\\begin{array}{cccc}\n",
    "    b_{11} & b_{12}\\\\\n",
    "    b_{21} & b_{22}\\\\\n",
    "    b_{31} & b_{32}\\\\\n",
    "  \\end{array} } \\right] =\n",
    "  \\left[ {\\begin{array}{cccc}\n",
    "    a_{11}b_{11} + a_{12}b_{21} + a_{13}b_{31} &\n",
    "    a_{11}b_{12} + a_{12}b_{22} + a_{13}b_{32}           \\\\\n",
    "    a_{21}b_{11} + a_{22}b_{21} + a_{23}b_{32} &\n",
    "    a_{21}b_{12} + a_{22}b_{22} + a_{23}b_{32}           \\\\\n",
    "  \\end{array} } \\right]\n",
    "$$"
   ]
  },
  {
   "cell_type": "code",
   "execution_count": null,
   "metadata": {},
   "outputs": [],
   "source": []
  },
  {
   "cell_type": "markdown",
   "metadata": {},
   "source": [
    "***\n",
    "***"
   ]
  },
  {
   "cell_type": "markdown",
   "metadata": {},
   "source": [
    "## Задача 7.5 \n",
    "\n",
    "Выведите таблицу размером $ n×n $ , заполненную числами от 1 до $ n^2 $ по спирали, выходящей из левого верхнего угла и закрученной по часовой стрелке, как показано в примере (здесь $ n=5 $):\n",
    "\n",
    "**Sample Input:**\n",
    "\n",
    "5\n",
    "\n",
    "**Sample Output:**\n",
    "\n",
    "1 2 3 4 5\n",
    "\n",
    "16 17 18 19 6\n",
    "\n",
    "15 24 25 20 7\n",
    "\n",
    "14 23 22 21 8\n",
    "\n",
    "13 12 11 10 9"
   ]
  },
  {
   "cell_type": "code",
   "execution_count": null,
   "metadata": {},
   "outputs": [],
   "source": []
  }
 ],
 "metadata": {
  "kernelspec": {
   "display_name": "Python 3 (ipykernel)",
   "language": "python",
   "name": "python3"
  },
  "language_info": {
   "codemirror_mode": {
    "name": "ipython",
    "version": 3
   },
   "file_extension": ".py",
   "mimetype": "text/x-python",
   "name": "python",
   "nbconvert_exporter": "python",
   "pygments_lexer": "ipython3",
   "version": "3.12.0"
  },
  "toc": {
   "base_numbering": 1,
   "nav_menu": {},
   "number_sections": true,
   "sideBar": true,
   "skip_h1_title": false,
   "title_cell": "Table of Contents",
   "title_sidebar": "Contents",
   "toc_cell": true,
   "toc_position": {},
   "toc_section_display": true,
   "toc_window_display": false
  }
 },
 "nbformat": 4,
 "nbformat_minor": 4
}
