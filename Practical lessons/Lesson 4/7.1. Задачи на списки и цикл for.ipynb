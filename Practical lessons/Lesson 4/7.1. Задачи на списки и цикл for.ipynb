{
 "cells": [
  {
   "cell_type": "markdown",
   "metadata": {},
   "source": [
    "# Задачи на списки и цикл ```for```"
   ]
  },
  {
   "cell_type": "markdown",
   "metadata": {},
   "source": [
    "Создать из строки с фиксированным разделителем список можно применив к ней метод `.split()`"
   ]
  },
  {
   "cell_type": "code",
   "execution_count": null,
   "metadata": {},
   "outputs": [],
   "source": [
    "str_ = \"4 8 0 3 4 2 0 3\"\n",
    "\n",
    "lst_ = str_.split()\n",
    "print(lst_)"
   ]
  },
  {
   "cell_type": "markdown",
   "metadata": {},
   "source": [
    "Без указания аргумента метод будет разделять элементы по пробельным символам:"
   ]
  },
  {
   "cell_type": "code",
   "execution_count": null,
   "metadata": {},
   "outputs": [],
   "source": [
    "str_ = \"4        8 \\t\\t 0 3 \\t4 2 0 3\"\n",
    "\n",
    "lst_ = str_.split()\n",
    "print(lst_)"
   ]
  },
  {
   "cell_type": "markdown",
   "metadata": {},
   "source": [
    "При указании конкретной подстроки - по ней:"
   ]
  },
  {
   "cell_type": "code",
   "execution_count": null,
   "metadata": {},
   "outputs": [],
   "source": [
    "str_ = \"4,8,0,3,4,2,0,3\"\n",
    "\n",
    "lst_ = str_.split(\",\")\n",
    "print(lst_)"
   ]
  },
  {
   "cell_type": "code",
   "execution_count": null,
   "metadata": {},
   "outputs": [],
   "source": [
    "str_ = \"4        8 \\t\\t 0 3 \\t4 2 0 3\"\n",
    "\n",
    "lst_ = str_.split(\" \")\n",
    "print(lst_)"
   ]
  },
  {
   "cell_type": "markdown",
   "metadata": {},
   "source": [
    "## Задача 7.1\n",
    "\n",
    "Напишите программу, которая принимает на вход список чисел в одной строке и выводит на экран в одну строку значения, которые встречаются в нём более одного раза.\n",
    "\n",
    "> Для решения задачи может пригодиться метод ```sort``` списка.\n",
    "\n",
    "Выводимые числа не должны повторяться, порядок их вывода может быть произвольным.\n",
    "\n",
    "**Sample Input:**\n",
    "\n",
    "4 8 0 3 4 2 0 3\n",
    "\n",
    "**Sample Output:**\n",
    "\n",
    "0 3 4"
   ]
  },
  {
   "cell_type": "code",
   "execution_count": null,
   "metadata": {},
   "outputs": [],
   "source": []
  },
  {
   "cell_type": "markdown",
   "metadata": {},
   "source": [
    "***\n",
    "***"
   ]
  },
  {
   "cell_type": "markdown",
   "metadata": {},
   "source": [
    "## Задача 7.2\n",
    "\n",
    "На вход подается список значений. В этом списке существуют выбросы (отрицательные значения). \n",
    "\n",
    "Задача:\n",
    "\n",
    "1. Избавиться от выбросов.\n",
    "\n",
    "3. Округлить значения до второго знака после запятой.\n",
    "\n",
    "2. Подсчитать минимальное значение в списке, максимальное значение, среднее арифметическое и моду в выборке. \n",
    "\n",
    "Вывести в  следующем порядке **(Все значения округлить до 2 знаков после запятой)**:\n",
    "\n",
    "1. Минимальное значение.\n",
    "\n",
    "2. Максимальное значение.\n",
    "\n",
    "3. Среднее арифметическое значение.\n",
    "\n",
    "4. Моду выборки (значение, которое встречается чаще всего).\n",
    "\n",
    "5. Медиану выборки (Значение разделяющее упорядоченную выборку на две равные части).\n",
    "\n",
    "6. Среднее квадратическое отклонение."
   ]
  },
  {
   "cell_type": "code",
   "execution_count": null,
   "metadata": {},
   "outputs": [],
   "source": [
    "# Загрузка исходных данных\n",
    "\n",
    "import json\n",
    "\n",
    "with open(r\"./src/data_file_task_7.json\", \"r\") as rf:\n",
    "    data = json.load(rf)\n",
    "    \n",
    "print(data[:50])"
   ]
  },
  {
   "cell_type": "code",
   "execution_count": null,
   "metadata": {},
   "outputs": [],
   "source": []
  },
  {
   "cell_type": "markdown",
   "metadata": {},
   "source": [
    "**Ответы:**\n",
    "```python\n",
    "min = 0.03\n",
    "max = 170.93\n",
    "mean = 52.96\n",
    "mode = 56.01\n",
    "median = 51.41\n",
    "mse = 27.07\n",
    "```"
   ]
  },
  {
   "cell_type": "markdown",
   "metadata": {},
   "source": [
    "***\n",
    "***"
   ]
  },
  {
   "cell_type": "markdown",
   "metadata": {},
   "source": [
    "## Задача 7.3\n",
    "\n",
    "Напишите программу, которая выводит часть последовательности $ 1 2 2 3 3 3 4 4 4 4 5 5 5 5 5 \\dots $(число повторяется столько раз, чему равно). На вход программе передаётся неотрицательное целое число $ n $ — столько элементов последовательности должна отобразить программа. На выходе ожидается последовательность чисел, записанных через пробел в одну строку.\n",
    "\n",
    "Например, если $ n = 7 $, то программа должна вывести $ 1 2 2 3 3 3 4 $.\n",
    "\n",
    "Sample Input:\n",
    "\n",
    "$ 7 $\n",
    "\n",
    "Sample Output:\n",
    "\n",
    "$ 1\\; 2\\; 2\\; 3\\; 3\\; 3\\; 4 $"
   ]
  },
  {
   "cell_type": "code",
   "execution_count": null,
   "metadata": {},
   "outputs": [],
   "source": []
  },
  {
   "cell_type": "markdown",
   "metadata": {},
   "source": [
    "***\n",
    "***"
   ]
  }
 ],
 "metadata": {
  "kernelspec": {
   "display_name": "Python 3 (ipykernel)",
   "language": "python",
   "name": "python3"
  },
  "language_info": {
   "codemirror_mode": {
    "name": "ipython",
    "version": 3
   },
   "file_extension": ".py",
   "mimetype": "text/x-python",
   "name": "python",
   "nbconvert_exporter": "python",
   "pygments_lexer": "ipython3",
   "version": "3.12.0"
  },
  "toc": {
   "base_numbering": 1,
   "nav_menu": {},
   "number_sections": true,
   "sideBar": true,
   "skip_h1_title": false,
   "title_cell": "Table of Contents",
   "title_sidebar": "Contents",
   "toc_cell": true,
   "toc_position": {},
   "toc_section_display": true,
   "toc_window_display": false
  }
 },
 "nbformat": 4,
 "nbformat_minor": 4
}
